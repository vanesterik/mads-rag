{
 "cells": [
  {
   "cell_type": "code",
   "execution_count": null,
   "metadata": {},
   "outputs": [],
   "source": [
    "# System imports\n",
    "from pathlib import Path\n",
    "import os\n",
    "import re\n",
    "\n",
    "# External imports\n",
    "import pdfplumber\n",
    "from pypdf import PdfReader\n",
    "\n",
    "# Local imports\n",
    "from rag.common.config import DOCUMENT_DIR\n",
    "from rag.core.extracting import extract_chunks, extract_page_elements"
   ]
  },
  {
   "cell_type": "code",
   "execution_count": null,
   "metadata": {},
   "outputs": [],
   "source": [
    "project_dir = Path().resolve().parent\n",
    "files = os.listdir(project_dir / DOCUMENT_DIR)\n",
    "file_path = project_dir / DOCUMENT_DIR / files[0]"
   ]
  },
  {
   "cell_type": "code",
   "execution_count": null,
   "metadata": {},
   "outputs": [],
   "source": [
    "headers, footers = extract_page_elements(file_path)"
   ]
  },
  {
   "cell_type": "code",
   "execution_count": null,
   "metadata": {},
   "outputs": [],
   "source": [
    "chunks = extract_chunks(file_path, headers, footers)\n",
    "\n",
    "# print(len(chunks))\n",
    "print('\\n\\n'.join(chunks))"
   ]
  }
 ],
 "metadata": {
  "kernelspec": {
   "display_name": "Python 3",
   "language": "python",
   "name": "python3"
  },
  "language_info": {
   "codemirror_mode": {
    "name": "ipython",
    "version": 3
   },
   "file_extension": ".py",
   "mimetype": "text/x-python",
   "name": "python",
   "nbconvert_exporter": "python",
   "pygments_lexer": "ipython3",
   "version": "3.11.5"
  }
 },
 "nbformat": 4,
 "nbformat_minor": 2
}
